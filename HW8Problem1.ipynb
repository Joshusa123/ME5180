{
 "cells": [
  {
   "cell_type": "code",
   "execution_count": 32,
   "id": "4c2cab75-aaa8-454d-a176-21aa8eba0a26",
   "metadata": {},
   "outputs": [],
   "source": [
    "import numpy as np\n",
    "from numpy import sin,arcsin, cos,pi\n",
    "from scipy.integrate import odeint, solve_ivp\n",
    "from scipy.linalg import *\n",
    "from scipy.optimize import fsolve,root\n",
    "import matplotlib.pyplot as plt\n",
    "plt.style.use('fivethirtyeight')\n",
    "from matplotlib import animation\n",
    "from IPython.display import HTML\n",
    "\n",
    "def rotA(theta):\n",
    "    '''This function returns a 2x2 rotation matrix to convert the \n",
    "    rotated coordinate to the global coordinate system\n",
    "    input is angle in radians\n",
    "        \n",
    "    Parameters\n",
    "    ----------\n",
    "    theta : angle in radians\n",
    "    \n",
    "    Returns\n",
    "    -------\n",
    "    A : 2x2 array to rotate a coordinate system at angle theta to global x-y\n",
    "    '''\n",
    "    A=np.zeros((2,2))\n",
    "    A=np.array([[np.cos(theta), -np.sin(theta)],\n",
    "               [np.sin(theta), np.cos(theta)]])\n",
    "    \n",
    "    return A\n",
    "\n",
    "def A_theta(theta):\n",
    "    '''This function returns a 2x2 rotation matrix derivative \n",
    "    input is angle in radians\n",
    "        \n",
    "    Parameters\n",
    "    ----------\n",
    "    theta : angle in radians\n",
    "    \n",
    "    Returns\n",
    "    -------\n",
    "    dAda : 2x2 array derivative of `rotA`\n",
    "    '''\n",
    "    dAda=np.array([[-np.sin(theta), -np.cos(theta)],\n",
    "                   [np.cos(theta), -np.sin(theta)]])\n",
    "    return dAda"
   ]
  },
  {
   "cell_type": "code",
   "execution_count": 33,
   "id": "ab3a0f5f-2ef1-4576-99cb-eeb2c035162d",
   "metadata": {},
   "outputs": [],
   "source": [
    "#Solve for the first set of generalized coordinates given initial conditions\n",
    "\n",
    "m1 = 0.1 # kg\n",
    "m2 = 1   # kg\n",
    "l  = 1   #m\n",
    "k  = 40  #N/m\n",
    "g=9.81\n",
    "\n",
    "q0 = [0, 0, 0, l/2, 0,0]\n",
    "\n",
    "def C_link(q,t):\n",
    "    q1 = q[0:6]\n",
    "    C=np.zeros(4)\n",
    "    C[0:2] = q1[0:2]+rotA(q1[2])@np.array([0, 0])-q1[3:5]-rotA(q1[5])@np.array([-l/2, 0])\n",
    "    C[2:4] = q1[1:3]\n",
    "    return C\n",
    "\n",
    "def Cq_pin(q,t):\n",
    "    qi=q[0:3]\n",
    "    qj=q[3:6]\n",
    "    ui=np.array([0,0])\n",
    "    uj=np.array([-l/2,0])\n",
    "    Cq_1=np.block([np.eye(2), A_theta(qi[2])@ui[:,np.newaxis] ])\n",
    "    Cq_2=np.block([-np.eye(2), -A_theta(qj[2])@uj[:,np.newaxis] ])\n",
    "    Cq_3=np.block([np.zeros([2])[:,np.newaxis], np.eye(2)])\n",
    "    Cq_4=np.zeros([2,3])\n",
    "    Cq_pin=np.block([[Cq_1, Cq_2],[Cq_3, Cq_4]])\n",
    "    return Cq_pin\n",
    "\n",
    "def Bi_link(q, t):\n",
    "    Cq = Cq_pin(q,t)\n",
    "    Cqd= Cq[0:4,1:5]\n",
    "    Cqi= np.block([Cq[0:4,0][:,np.newaxis],Cq[0:4,5][:,np.newaxis]])\n",
    "    Bi=np.vstack((-np.linalg.inv(Cqd)@Cqi,np.eye(2)))\n",
    "    return Bi\n",
    "\n",
    "def eom_bar(t, y):\n",
    "    #Here y = [Rx1, dRx1, Theta2, dTheta2]\n",
    "    #Such that dy = [dRx1, ddRx1, dTheta2, ddTheta2]\n",
    "    \n",
    "    global q0\n",
    "    q0[1]=y[0]\n",
    "    q0[5]=y[2]\n",
    "    \n",
    "    q = fsolve(lambda q: np.block([C_link(q, t),q[1]-y[0],q[5]-y[2]]),q0, \\\n",
    "            fprime= lambda q: np.vstack((Cq_pin(q,t),np.array([1,0,0,0,0,0]),np.array([0,0,0,0,0,1]))))\n",
    "    \n",
    "    Bi = Bi_link(q, t)\n",
    "    M  = np.diag([m1,m1,0,m2,m2,m2*l**2/12]) \n",
    "    Qe = np.array([-k, 0, 0, 0,-m2*g,0])\n",
    "    dy = np.zeros(y.shape)\n",
    "    dy[0]=y[1]\n",
    "    dy[2]=y[3]\n",
    "    sol  =solve(Bi.T@M@Bi,Bi.T@Qe)\n",
    "    dy[1]=sol[0]\n",
    "    dy[3]=sol[1]\n",
    "    return dy, q"
   ]
  },
  {
   "cell_type": "code",
   "execution_count": null,
   "id": "daebe79f-a035-42b5-be9e-7bba4bbd9dec",
   "metadata": {},
   "outputs": [],
   "source": []
  },
  {
   "cell_type": "code",
   "execution_count": 30,
   "id": "6593da9e-ed86-4bbd-96d1-779738689f84",
   "metadata": {},
   "outputs": [
    {
     "name": "stderr",
     "output_type": "stream",
     "text": [
      "C:\\Users\\joshu\\anaconda3\\lib\\site-packages\\scipy\\optimize\\minpack.py:175: RuntimeWarning: The iteration is not making good progress, as measured by the \n",
      "  improvement from the last ten iterations.\n",
      "  warnings.warn(msg, RuntimeWarning)\n",
      "C:\\Users\\joshu\\anaconda3\\lib\\site-packages\\scipy\\optimize\\minpack.py:175: RuntimeWarning: The iteration is not making good progress, as measured by the \n",
      "  improvement from the last five Jacobian evaluations.\n",
      "  warnings.warn(msg, RuntimeWarning)\n"
     ]
    }
   ],
   "source": [
    "lambda t, y: eom_bar(t, y)[0] # <-- only grab the first output from eom_bar\n",
    "\n",
    "t = np.linspace(0,4)\n",
    "sol=solve_ivp(lambda t, y: eom_bar(t, y)[0], \n",
    "              t_span = [0,t.max()], \n",
    "              y0 = [0, 0, 0, 0], \n",
    "              t_eval = t)"
   ]
  },
  {
   "cell_type": "code",
   "execution_count": 37,
   "id": "30a30ebf-aa5b-4062-bd1b-d92ee05e62b1",
   "metadata": {},
   "outputs": [
    {
     "data": {
      "text/plain": [
       "Text(0.5, 1.0, 'independent general coord theta')"
      ]
     },
     "execution_count": 37,
     "metadata": {},
     "output_type": "execute_result"
    },
    {
     "data": {
      "image/png": "[encoded data removed]",
      "text/plain": [
       "<Figure size 432x288 with 1 Axes>"
      ]
     },
     "metadata": {},
     "output_type": "display_data"
    }
   ],
   "source": [
    "plt.plot(sol.t,sol.y[2])\n",
    "\n",
    "plt.xlabel('time (s)')\n",
    "plt.ylabel('')\n",
    "plt.title('independent general coord theta')"
   ]
  },
  {
   "cell_type": "code",
   "execution_count": 21,
   "id": "f26a1e65-ecc4-4b22-8cb5-0a7b5463b90a",
   "metadata": {},
   "outputs": [
    {
     "data": {
      "text/plain": [
       "  message: 'The solver successfully reached the end of the integration interval.'\n",
       "     nfev: 38\n",
       "     njev: 0\n",
       "      nlu: 0\n",
       "      sol: None\n",
       "   status: 0\n",
       "  success: True\n",
       "        t: array([0.        , 0.08163265, 0.16326531, 0.24489796, 0.32653061,\n",
       "       0.40816327, 0.48979592, 0.57142857, 0.65306122, 0.73469388,\n",
       "       0.81632653, 0.89795918, 0.97959184, 1.06122449, 1.14285714,\n",
       "       1.2244898 , 1.30612245, 1.3877551 , 1.46938776, 1.55102041,\n",
       "       1.63265306, 1.71428571, 1.79591837, 1.87755102, 1.95918367,\n",
       "       2.04081633, 2.12244898, 2.20408163, 2.28571429, 2.36734694,\n",
       "       2.44897959, 2.53061224, 2.6122449 , 2.69387755, 2.7755102 ,\n",
       "       2.85714286, 2.93877551, 3.02040816, 3.10204082, 3.18367347,\n",
       "       3.26530612, 3.34693878, 3.42857143, 3.51020408, 3.59183673,\n",
       "       3.67346939, 3.75510204, 3.83673469, 3.91836735, 4.        ])\n",
       " t_events: None\n",
       "        y: array([[ 0.00000000e+00, -3.26863807e-02, -1.30745523e-01,\n",
       "        -2.94177426e-01, -5.22982091e-01, -8.17159517e-01,\n",
       "        -1.17670970e+00, -1.60163265e+00, -2.09192836e+00,\n",
       "        -2.64759683e+00, -3.26863807e+00, -3.95505206e+00,\n",
       "        -4.70683882e+00, -5.52399833e+00, -6.40653061e+00,\n",
       "        -7.35443565e+00, -8.36771345e+00, -9.44636401e+00,\n",
       "        -1.05903873e+01, -1.17997834e+01, -1.30745523e+01,\n",
       "        -1.44146939e+01, -1.58202082e+01, -1.72910954e+01,\n",
       "        -1.88273553e+01, -2.04289879e+01, -2.20959933e+01,\n",
       "        -2.38283715e+01, -2.56261224e+01, -2.74892461e+01,\n",
       "        -2.94177426e+01, -3.14116118e+01, -3.34708538e+01,\n",
       "        -3.55954686e+01, -3.77854561e+01, -4.00408163e+01,\n",
       "        -4.23615494e+01, -4.47476551e+01, -4.71991337e+01,\n",
       "        -4.97159850e+01, -5.22982091e+01, -5.49458059e+01,\n",
       "        -5.76587755e+01, -6.04371179e+01, -6.32808330e+01,\n",
       "        -6.61899209e+01, -6.91643815e+01, -7.22042149e+01,\n",
       "        -7.53094211e+01, -7.84800000e+01],\n",
       "       [ 0.00000000e+00, -8.00816327e-01, -1.60163265e+00,\n",
       "        -2.40244898e+00, -3.20326531e+00, -4.00408163e+00,\n",
       "        -4.80489796e+00, -5.60571429e+00, -6.40653061e+00,\n",
       "        -7.20734694e+00, -8.00816327e+00, -8.80897959e+00,\n",
       "        -9.60979592e+00, -1.04106122e+01, -1.12114286e+01,\n",
       "        -1.20122449e+01, -1.28130612e+01, -1.36138776e+01,\n",
       "        -1.44146939e+01, -1.52155102e+01, -1.60163265e+01,\n",
       "        -1.68171429e+01, -1.76179592e+01, -1.84187755e+01,\n",
       "        -1.92195918e+01, -2.00204082e+01, -2.08212245e+01,\n",
       "        -2.16220408e+01, -2.24228571e+01, -2.32236735e+01,\n",
       "        -2.40244898e+01, -2.48253061e+01, -2.56261224e+01,\n",
       "        -2.64269388e+01, -2.72277551e+01, -2.80285714e+01,\n",
       "        -2.88293878e+01, -2.96302041e+01, -3.04310204e+01,\n",
       "        -3.12318367e+01, -3.20326531e+01, -3.28334694e+01,\n",
       "        -3.36342857e+01, -3.44351020e+01, -3.52359184e+01,\n",
       "        -3.60367347e+01, -3.68375510e+01, -3.76383673e+01,\n",
       "        -3.84391837e+01, -3.92400000e+01],\n",
       "       [ 0.00000000e+00,  0.00000000e+00,  0.00000000e+00,\n",
       "         0.00000000e+00,  0.00000000e+00,  0.00000000e+00,\n",
       "         0.00000000e+00,  0.00000000e+00,  0.00000000e+00,\n",
       "         0.00000000e+00,  0.00000000e+00,  0.00000000e+00,\n",
       "         0.00000000e+00,  0.00000000e+00,  0.00000000e+00,\n",
       "         0.00000000e+00,  0.00000000e+00,  0.00000000e+00,\n",
       "         0.00000000e+00,  0.00000000e+00,  0.00000000e+00,\n",
       "         0.00000000e+00,  0.00000000e+00,  0.00000000e+00,\n",
       "         0.00000000e+00,  0.00000000e+00,  0.00000000e+00,\n",
       "         0.00000000e+00,  0.00000000e+00,  0.00000000e+00,\n",
       "         0.00000000e+00,  0.00000000e+00,  0.00000000e+00,\n",
       "         0.00000000e+00,  0.00000000e+00,  0.00000000e+00,\n",
       "         0.00000000e+00,  0.00000000e+00,  0.00000000e+00,\n",
       "         0.00000000e+00,  0.00000000e+00,  0.00000000e+00,\n",
       "         0.00000000e+00,  0.00000000e+00,  0.00000000e+00,\n",
       "         0.00000000e+00,  0.00000000e+00,  0.00000000e+00,\n",
       "         0.00000000e+00,  0.00000000e+00],\n",
       "       [ 0.00000000e+00,  0.00000000e+00,  0.00000000e+00,\n",
       "         0.00000000e+00,  0.00000000e+00,  0.00000000e+00,\n",
       "         0.00000000e+00,  0.00000000e+00,  0.00000000e+00,\n",
       "         0.00000000e+00,  0.00000000e+00,  0.00000000e+00,\n",
       "         0.00000000e+00,  0.00000000e+00,  0.00000000e+00,\n",
       "         0.00000000e+00,  0.00000000e+00,  0.00000000e+00,\n",
       "         0.00000000e+00,  0.00000000e+00,  0.00000000e+00,\n",
       "         0.00000000e+00,  0.00000000e+00,  0.00000000e+00,\n",
       "         0.00000000e+00,  0.00000000e+00,  0.00000000e+00,\n",
       "         0.00000000e+00,  0.00000000e+00,  0.00000000e+00,\n",
       "         0.00000000e+00,  0.00000000e+00,  0.00000000e+00,\n",
       "         0.00000000e+00,  0.00000000e+00,  0.00000000e+00,\n",
       "         0.00000000e+00,  0.00000000e+00,  0.00000000e+00,\n",
       "         0.00000000e+00,  0.00000000e+00,  0.00000000e+00,\n",
       "         0.00000000e+00,  0.00000000e+00,  0.00000000e+00,\n",
       "         0.00000000e+00,  0.00000000e+00,  0.00000000e+00,\n",
       "         0.00000000e+00,  0.00000000e+00]])\n",
       " y_events: None"
      ]
     },
     "execution_count": 21,
     "metadata": {},
     "output_type": "execute_result"
    }
   ],
   "source": [
    "sol"
   ]
  },
  {
   "cell_type": "code",
   "execution_count": null,
   "id": "da256d1a-66cc-487d-862d-b1510b06e2b3",
   "metadata": {},
   "outputs": [],
   "source": []
  },
  {
   "cell_type": "code",
   "execution_count": null,
   "id": "d5954c7f-1c08-44d0-898d-8346fb75ea83",
   "metadata": {},
   "outputs": [],
   "source": []
  }
 ],
 "metadata": {
  "kernelspec": {
   "display_name": "Python 3 (ipykernel)",
   "language": "python",
   "name": "python3"
  },
  "language_info": {
   "codemirror_mode": {
    "name": "ipython",
    "version": 3
   },
   "file_extension": ".py",
   "mimetype": "text/x-python",
   "name": "python",
   "nbconvert_exporter": "python",
   "pygments_lexer": "ipython3",
   "version": "3.9.7"
  }
 },
 "nbformat": 4,
 "nbformat_minor": 5
}
