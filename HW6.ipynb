{
 "cells": [
  {
   "cell_type": "code",
   "execution_count": 6,
   "id": "7ff9f9d8-3bf4-433b-856b-5a2bb0c76909",
   "metadata": {},
   "outputs": [],
   "source": [
    "import numpy as np\n",
    "from scipy.linalg import *"
   ]
  },
  {
   "cell_type": "code",
   "execution_count": 14,
   "id": "08718359-a692-4fd8-9fbc-266071548de9",
   "metadata": {},
   "outputs": [
    {
     "name": "stdout",
     "output_type": "stream",
     "text": [
      "[[1 2 3]\n",
      " [4 5 6]]\n",
      "The size of A is: (2, 3)\n",
      "[[1 4]\n",
      " [2 5]\n",
      " [3 6]]\n",
      "The size of A transpose is: (3, 2)\n"
     ]
    }
   ],
   "source": [
    "#### Problem 1 #####\n",
    "A = np.array([[1,2,3],[4,5,6]])\n",
    "print(A)\n",
    "print(\"The size of A is: \"+str(np.shape(A)))\n",
    "print(A.T)\n",
    "print(\"The size of A transpose is: \"+str(np.shape(A.T)))"
   ]
  },
  {
   "cell_type": "code",
   "execution_count": 59,
   "id": "c47172fd-3979-465c-b5e3-70d91edc31ca",
   "metadata": {},
   "outputs": [
    {
     "name": "stdout",
     "output_type": "stream",
     "text": [
      "[[90 65]\n",
      " [32 27]]\n",
      "\n",
      "[[90 65]\n",
      " [32 27]]\n"
     ]
    },
    {
     "data": {
      "text/plain": [
       "array([[70, 37],\n",
       "       [21, 13]])"
      ]
     },
     "execution_count": 59,
     "metadata": {},
     "output_type": "execute_result"
    }
   ],
   "source": [
    "#### Problem 2 ####\n",
    "\n",
    "#Given Matrices\n",
    "A=np.array([[5,3],[1,2]])\n",
    "B=np.array([[1,2],[5,6]])\n",
    "C=np.array([[11,5],[5,4]])\n",
    "\n",
    "#Calculated Matrices\n",
    "D1=A@(B+C)\n",
    "D2=A@B+A@C\n",
    "\n",
    "print(D1)\n",
    "print(\"\")\n",
    "print(D2)\n",
    "\n",
    "\n",
    "A@C\n"
   ]
  },
  {
   "cell_type": "code",
   "execution_count": 55,
   "id": "24cacc14-a7c1-4c8e-9a0d-02a0ef6b0ad1",
   "metadata": {},
   "outputs": [
    {
     "name": "stdout",
     "output_type": "stream",
     "text": [
      "Hand-Derived Result: dfdt = -256\n",
      "Numerical Result:    dfdt = -256\n"
     ]
    }
   ],
   "source": [
    "#### Problem 3 ####\n",
    "def dfdq(q1,q2,q3,t):\n",
    "    dq=np.array([q3,-6*q2,q1])\n",
    "    return dq;\n",
    "\n",
    "def dfdt(q1,q2,q3,t):\n",
    "    df=dfdq(q1,q2,q3,t)\n",
    "    dfdt = np.dot(df,[2, 5, 2*t])+10*t\n",
    "    return dfdt;\n",
    "\n",
    "####Testing the function\n",
    "t = 2;\n",
    "q1=2*t;\n",
    "q2=5*t;\n",
    "q3=t**2;\n",
    "print(\"Hand-Derived Result: dfdt = \"+str(t*(6*t-140)))\n",
    "print(\"Numerical Result:    dfdt = \"+str(dfdt(q1,q2,q3,t)))"
   ]
  },
  {
   "cell_type": "code",
   "execution_count": 56,
   "id": "b7a0626f-4d4c-4500-a529-a26b141324e6",
   "metadata": {},
   "outputs": [
    {
     "data": {
      "text/plain": [
       "array([[   2,   18, -375],\n",
       "       [   0,    6,  -10],\n",
       "       [   5,    5,    4]])"
      ]
     },
     "execution_count": 56,
     "metadata": {},
     "output_type": "execute_result"
    }
   ],
   "source": [
    "#### Problem 4 ####\n",
    "def dfdq2(q,t):\n",
    "    '''Here q=[q1,q2,q3] and t = time'''\n",
    "    df = np.array([[2*q[0],6*q[1],-15*q[2]**2],[0,2*q[1],-2*q[2]],[q[2],q[2],q[0]+q[1]]])\n",
    "    return df\n",
    "\n",
    "q=np.array([1,3,5])\n",
    "t=3\n",
    "dfdq2(q,t)"
   ]
  },
  {
   "cell_type": "code",
   "execution_count": 52,
   "id": "b65eb9de-8dc8-49a7-a55e-e17f9663d590",
   "metadata": {},
   "outputs": [
    {
     "name": "stdout",
     "output_type": "stream",
     "text": [
      "The sum of A and B is: \n",
      "[[ -3.   11.2 -20.5]\n",
      " [-12.5  16.7  13. ]\n",
      " [ 19.   26.8 -10. ]]\n",
      "\n",
      "The determinant of A is:   det(A) = 1036.4999999999995\n",
      "The determinant of B is:   det(B) = -560.0000000000003\n",
      "The determinant of A+B is: det(A+B) = 16284.749999999976\n",
      "\n",
      "The trace of A is:          trace(A) = 8.0\n",
      "The trace of B is:          trace(B) = -4.3\n",
      "The trace of A+B is:        trace(A+B) = 3.6999999999999993\n",
      "\n"
     ]
    }
   ],
   "source": [
    "#### Problem 5 ####\n",
    "A=np.array([[-3,8,-20.5],[5,11,13],[7,20,0]])\n",
    "B=np.array([[0,3.2,0],[-17.5,5.7,0],[12,6.8,-10]])\n",
    "\n",
    "#Sum of A,B\n",
    "C = A+B;\n",
    "print(\"The sum of A and B is: \");print(C);print(\"\")\n",
    "\n",
    "#Determinants of A,B, and A+B\n",
    "print(\"The determinant of A is:   det(A) = \"+str(np.linalg.det(A)))\n",
    "print(\"The determinant of B is:   det(B) = \"+str(np.linalg.det(B)))\n",
    "print(\"The determinant of A+B is: det(A+B) = \"+str(np.linalg.det(C)))\n",
    "print(\"\")\n",
    "\n",
    "#Trace (Sum of Diagonal Elements) of A,B, and A+B\n",
    "print(\"The trace of A is:          trace(A) = \"+str(np.trace(A)))\n",
    "print(\"The trace of B is:          trace(B) = \"+str(np.trace(B)))\n",
    "print(\"The trace of A+B is:        trace(A+B) = \"+str(np.trace(C)))\n",
    "print(\"\")\n"
   ]
  },
  {
   "cell_type": "code",
   "execution_count": null,
   "id": "c8a930b2-cdb9-476c-aa13-16cb2b50760c",
   "metadata": {},
   "outputs": [],
   "source": []
  }
 ],
 "metadata": {
  "kernelspec": {
   "display_name": "Python 3 (ipykernel)",
   "language": "python",
   "name": "python3"
  },
  "language_info": {
   "codemirror_mode": {
    "name": "ipython",
    "version": 3
   },
   "file_extension": ".py",
   "mimetype": "text/x-python",
   "name": "python",
   "nbconvert_exporter": "python",
   "pygments_lexer": "ipython3",
   "version": "3.9.7"
  }
 },
 "nbformat": 4,
 "nbformat_minor": 5
}
